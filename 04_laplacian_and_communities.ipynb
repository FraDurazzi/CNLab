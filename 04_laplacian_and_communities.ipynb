{
 "cells": [
  {
   "cell_type": "markdown",
   "metadata": {},
   "source": [
    "# Complex Networks Computational Session\n",
    "# Laplacian and Community detection"
   ]
  },
  {
   "cell_type": "code",
   "execution_count": 2,
   "metadata": {},
   "outputs": [],
   "source": [
    "import numpy as np\n",
    "import matplotlib.pyplot as plt\n",
    "from tqdm import tqdm\n",
    "import networkx as nx\n",
    "from scipy import linalg as sla\n",
    "import scipy.sparse as sparse\n",
    "import pandas as pd"
   ]
  },
  {
   "cell_type": "code",
   "execution_count": 3,
   "metadata": {},
   "outputs": [],
   "source": [
    "# Function to visualize an adjacency matrix\n",
    "def plot_adjacency_matrix(adj_matrix, title=\"Adjacency Matrix\"):\n",
    "    plt.figure(figsize=(6,6))\n",
    "    plt.imshow(adj_matrix, cmap='gray_r', interpolation='none')\n",
    "    plt.title(title)\n",
    "    plt.colorbar(label=\"Edge Weight\")\n",
    "    plt.show()\n",
    "\n",
    "# Check if A is symmetric (difference between A and A.T is zero) without using numpy's isclose function\n",
    "def is_symmetric(A):\n",
    "    return np.all(A - A.T == 0)\n",
    "\n",
    "def erdos_renyi(N,p,symmetric=True):\n",
    "    A = np.random.rand(N,N)\n",
    "    A = A<p\n",
    "    if symmetric:\n",
    "        A = np.triu(A,1)\n",
    "        A = A + A.T\n",
    "    return A\n",
    "\n",
    "def generate_sbm(sizes, p_in, p_out,symmetric=True):\n",
    "    n = sum(sizes)\n",
    "    adj = np.zeros((n, n))\n",
    "    # Intra-community links\n",
    "    start = 0\n",
    "    for i, size in enumerate(sizes):\n",
    "        end = start + size\n",
    "        adj[start:end, start:end] = np.random.rand(size, size) < p_in[i]\n",
    "        if symmetric:\n",
    "            #symmetrize\n",
    "            adj[start:end, start:end] = np.triu(adj[start:end, start:end],1)\n",
    "            adj[start:end, start:end] = adj[start:end, start:end] + adj[start:end, start:end].T\n",
    "        start = end\n",
    "    # Inter-community links\n",
    "    for i in range(len(sizes)):\n",
    "        for j in range(i+1, len(sizes)):\n",
    "            start_i, end_i = sum(sizes[:i]), sum(sizes[:i+1])\n",
    "            start_j, end_j = sum(sizes[:j]), sum(sizes[:j+1])\n",
    "            adj[start_i:end_i, start_j:end_j] = np.random.rand(end_i-start_i, end_j-start_j) < p_out[i,j]\n",
    "            if symmetric:\n",
    "                adj[start_j:end_j, start_i:end_i] = adj[start_i:end_i, start_j:end_j].T\n",
    "            else:\n",
    "                adj[start_j:end_j, start_i:end_i] = np.random.rand(end_j-start_j, end_i-start_i) < p_out[i,j]\n",
    "    return adj"
   ]
  },
  {
   "cell_type": "code",
   "execution_count": 4,
   "metadata": {},
   "outputs": [
    {
     "name": "stdout",
     "output_type": "stream",
     "text": []
    }
   ],
   "source": [
    "edgelist=pd.read_csv('https://snap.stanford.edu/data/email-Eu-core.txt.gz', compression='gzip',sep=' ',header=None)\n",
    "print(edgelist.head())\n"
   ]
  },
  {
   "cell_type": "code",
   "execution_count": 5,
   "metadata": {},
   "outputs": [
    {
     "name": "stdout",
     "output_type": "stream",
     "text": []
    },
    {
     "name": "stdout",
     "output_type": "stream",
     "text": []
    }
   ],
   "source": [
    "G_real = nx.Graph()\n",
    "G_real.add_edges_from(edgelist.values)\n",
    "A_real = nx.adjacency_matrix(G_real).todense()\n",
    "plot_adjacency_matrix(A_real, \"Real Adjacency Matrix\")\n",
    "print(G_real)\n",
    "print('Density:',nx.density(G_real))"
   ]
  },
  {
   "cell_type": "code",
   "execution_count": 6,
   "metadata": {},
   "outputs": [
    {
     "name": "stdout",
     "output_type": "stream",
     "text": []
    },
    {
     "name": "stdout",
     "output_type": "stream",
     "text": []
    }
   ],
   "source": [
    "A_ER=erdos_renyi(1000,0.033,symmetric=True)\n",
    "plot_adjacency_matrix(A_ER)\n",
    "G_ER=nx.Graph(A_ER)\n",
    "print(G_ER)\n",
    "print('Density:',nx.density(G_ER))"
   ]
  },
  {
   "cell_type": "code",
   "execution_count": 7,
   "metadata": {},
   "outputs": [
    {
     "name": "stdout",
     "output_type": "stream",
     "text": []
    },
    {
     "name": "stdout",
     "output_type": "stream",
     "text": []
    }
   ],
   "source": [
    "A_SBM=generate_sbm([500,300,200],[0.05,0.05,0.07],\n",
    "                   np.array([[np.nan,0.0015,0.0005],\n",
    "                             [np.nan,np.nan,0.002],\n",
    "                             [np.nan,np.nan,np.nan]]))\n",
    "plot_adjacency_matrix(A_SBM)\n",
    "G_SBM=nx.Graph(A_SBM)\n",
    "print(G_SBM)\n",
    "print('Density:',nx.density(G_SBM))"
   ]
  },
  {
   "cell_type": "markdown",
   "metadata": {},
   "source": [
    "## Laplacian"
   ]
  },
  {
   "cell_type": "markdown",
   "metadata": {},
   "source": [
    "![image info](./figures/lap_def.png \"Laplacian definition\")"
   ]
  },
  {
   "cell_type": "markdown",
   "metadata": {},
   "source": [
    "![image info](./figures/laplacian.png \"Laplacian example\")"
   ]
  },
  {
   "cell_type": "code",
   "execution_count": 58,
   "metadata": {},
   "outputs": [],
   "source": [
    "A=A_SBM\n",
    "# Graph Laplacian L=D-A\n",
    "L=np.diag(np.sum(A,axis=1))-A\n"
   ]
  },
  {
   "cell_type": "code",
   "execution_count": 59,
   "metadata": {},
   "outputs": [
    {
     "name": "stdout",
     "output_type": "stream",
     "text": []
    }
   ],
   "source": [
    "# Similar to before: number of components = number of 0 eigenvalues\n",
    "ncomps=len([el for el in sla.eigvalsh(L) if el < 1e-10])\n",
    "print(ncomps)\n"
   ]
  },
  {
   "cell_type": "markdown",
   "metadata": {},
   "source": [
    "The value of the first non-null eigenvalue is named Fiedler value. Larger values indicate more strongly connected graph. This DOES NOT NECESSARILY relate to the spectral gap of the adjacency matrix.\n",
    "\n",
    "The Fiedler value is low if there any many components, but the gap can still be high if it is not easy to disrupt it further. "
   ]
  },
  {
   "cell_type": "code",
   "execution_count": 16,
   "metadata": {},
   "outputs": [
    {
     "name": "stdout",
     "output_type": "stream",
     "text": []
    }
   ],
   "source": [
    "# Fiedler number: first non-zero eigenvalue\n",
    "fiedler_value=sla.eigvalsh(L)[ncomps]\n",
    "fiedler_value"
   ]
  },
  {
   "cell_type": "code",
   "execution_count": 17,
   "metadata": {},
   "outputs": [
    {
     "name": "stdout",
     "output_type": "stream",
     "text": []
    },
    {
     "name": "stdout",
     "output_type": "stream",
     "text": []
    }
   ],
   "source": [
    "# histograms of eigenvalues\n",
    "plt.figure(figsize=(10,5))\n",
    "plt.hist(sla.eigvalsh(np.diag(np.sum(A_ER,axis=1))-A_ER),bins=50,alpha=0.5,label='ER')\n",
    "plt.hist(sla.eigvalsh(np.diag(np.sum(A_SBM,axis=1))-A_SBM),bins=50,alpha=0.5,label='SBM')\n",
    "plt.hist(sla.eigvalsh(np.diag(np.sum(A_real,axis=1))-A_real),bins=50,alpha=0.5,label='Real')\n",
    "plt.legend()\n"
   ]
  },
  {
   "cell_type": "markdown",
   "metadata": {},
   "source": [
    "### Components detection"
   ]
  },
  {
   "cell_type": "code",
   "execution_count": 34,
   "metadata": {},
   "outputs": [
    {
     "name": "stdout",
     "output_type": "stream",
     "text": []
    }
   ],
   "source": [
    "A=A_real\n",
    "# Graph Laplacian L=D-A\n",
    "L=np.diag(np.sum(A,axis=1))-A\n",
    "\n",
    "ncomps=len([el for el in sla.eigvalsh(L) if el < 1e-10])\n",
    "print(ncomps)"
   ]
  },
  {
   "cell_type": "code",
   "execution_count": 43,
   "metadata": {},
   "outputs": [
    {
     "name": "stdout",
     "output_type": "stream",
     "text": []
    },
    {
     "name": "stdout",
     "output_type": "stream",
     "text": []
    }
   ],
   "source": [
    "# N.B. Eigenvalues are sorted in increasing order\n",
    "plt.plot(sla.eigvalsh(L)[:30])"
   ]
  },
  {
   "cell_type": "code",
   "execution_count": null,
   "metadata": {},
   "outputs": [
    {
     "name": "stdout",
     "output_type": "stream",
     "text": []
    }
   ],
   "source": [
    "# With networkx\n",
    "G=nx.Graph(A)\n",
    "components=list(nx.connected_components(G))\n",
    "print('Number of components:',len(components))\n",
    "\n",
    "print([len(nodes) for nodes in components])"
   ]
  },
  {
   "cell_type": "code",
   "execution_count": 56,
   "metadata": {},
   "outputs": [
    {
     "name": "stdout",
     "output_type": "stream",
     "text": []
    }
   ],
   "source": [
    "# Focus on the largest component\n",
    "largest_component=max(components,key=len)\n",
    "print('Largest component size:',len(largest_component))\n",
    "\n",
    "# Create a subgraph with the largest component\n",
    "G_largest=G.subgraph(largest_component)\n",
    "print(G_largest)"
   ]
  },
  {
   "cell_type": "code",
   "execution_count": 60,
   "metadata": {},
   "outputs": [
    {
     "name": "stdout",
     "output_type": "stream",
     "text": []
    },
    {
     "name": "stdout",
     "output_type": "stream",
     "text": []
    }
   ],
   "source": [
    "# Fiedler vector:  eigenvector of the first non-null eigenvalue -> communities\n",
    "fiedler_vector= sla.eigh(L)[1][:,ncomps]\n",
    "plt.figure(figsize=(10,5))\n",
    "plt.scatter(np.arange(len(fiedler_vector)),fiedler_vector)"
   ]
  },
  {
   "cell_type": "markdown",
   "metadata": {},
   "source": [
    "## Spectral layout"
   ]
  },
  {
   "cell_type": "code",
   "execution_count": 221,
   "metadata": {},
   "outputs": [
    {
     "name": "stdout",
     "output_type": "stream",
     "text": []
    }
   ],
   "source": [
    "A=A_real\n",
    "# Graph Laplacian L=D-A\n",
    "L=np.diag(np.sum(A,axis=1))-A\n",
    "ncomps=len([el for el in sla.eigvalsh(L) if el < 1e-10])\n",
    "print(ncomps)"
   ]
  },
  {
   "cell_type": "code",
   "execution_count": 222,
   "metadata": {},
   "outputs": [
    {
     "name": "stdout",
     "output_type": "stream",
     "text": []
    }
   ],
   "source": [
    "three_eigenvectors=sla.eigh(L)[1][:,ncomps:ncomps+3]\n",
    "three_eigenvectors.shape"
   ]
  },
  {
   "cell_type": "code",
   "execution_count": 223,
   "metadata": {},
   "outputs": [
    {
     "name": "stdout",
     "output_type": "stream",
     "text": []
    }
   ],
   "source": [
    "x = three_eigenvectors[:,0]\n",
    "y = three_eigenvectors[:,1]\n",
    "z = three_eigenvectors[:,2]\n",
    "\n",
    "fig = plt.figure(figsize=(10,10))\n",
    "ax = fig.add_subplot(111, projection='3d')\n",
    "ax.scatter(x, y, z)\n",
    "plt.xlabel('Fiedler Vector')\n",
    "plt.ylabel('Second Vector')\n",
    "plt.show()\n",
    "\n"
   ]
  },
  {
   "cell_type": "markdown",
   "metadata": {},
   "source": [
    "### 3D Lattice"
   ]
  },
  {
   "cell_type": "code",
   "execution_count": 61,
   "metadata": {},
   "outputs": [],
   "source": [
    "G=nx.grid_graph([3,3,3])"
   ]
  },
  {
   "cell_type": "code",
   "execution_count": 62,
   "metadata": {},
   "outputs": [],
   "source": [
    "A=nx.adjacency_matrix(G)\n",
    "D = sparse.diags(np.ravel(A.sum(axis=1)))\n",
    "L = D - A\n",
    "#L.todense()"
   ]
  },
  {
   "cell_type": "code",
   "execution_count": 63,
   "metadata": {},
   "outputs": [],
   "source": [
    "eigenvalues, eigenvectors= sparse.linalg.eigsh(L, k=4, which='SM')\n",
    "x=eigenvectors[:,1]\n",
    "y=eigenvectors[:,2]\n",
    "z=eigenvectors[:,3]"
   ]
  },
  {
   "cell_type": "code",
   "execution_count": 64,
   "metadata": {},
   "outputs": [
    {
     "name": "stdout",
     "output_type": "stream",
     "text": []
    }
   ],
   "source": [
    "plt.figure(figsize=(10,10))\n",
    "ax = plt.axes(projection='3d')\n",
    "ax.scatter(x, y, z)\n",
    "# rotate\n",
    "ax.view_init(0, 0)\n",
    "plt.show()"
   ]
  },
  {
   "cell_type": "markdown",
   "metadata": {},
   "source": [
    "### In NetworkX"
   ]
  },
  {
   "cell_type": "code",
   "execution_count": 262,
   "metadata": {},
   "outputs": [
    {
     "name": "stdout",
     "output_type": "stream",
     "text": []
    }
   ],
   "source": [
    "pos=nx.spectral_layout(G)\n",
    "nx.draw(G,pos=pos)"
   ]
  },
  {
   "cell_type": "code",
   "execution_count": 263,
   "metadata": {},
   "outputs": [
    {
     "name": "stdout",
     "output_type": "stream",
     "text": []
    }
   ],
   "source": [
    "# Remove one node\n",
    "G.remove_node((0,0,0))\n",
    "pos=nx.spectral_layout(G)\n",
    "nx.draw(G,pos=pos)"
   ]
  },
  {
   "cell_type": "markdown",
   "metadata": {},
   "source": [
    "# Community detection and visualization"
   ]
  },
  {
   "cell_type": "code",
   "execution_count": 149,
   "metadata": {},
   "outputs": [
    {
     "name": "stdout",
     "output_type": "stream",
     "text": []
    },
    {
     "data": {},
     "metadata": {},
     "output_type": "display_data"
    }
   ],
   "source": [
    "G= nx.Graph(A_real)\n",
    "# remove self-loops\n",
    "G.remove_edges_from(nx.selfloop_edges(G))\n",
    "\n",
    "# extract the largest connected component\n",
    "components = list(nx.connected_components(G))\n",
    "largest_component = max(components, key=len)\n",
    "G = G.subgraph(largest_component)\n",
    "print('Largest component size:', len(largest_component))\n",
    "\n",
    "\n",
    "\n",
    "\n",
    "communities = nx.community.louvain_communities(G)\n",
    "#communities = nx.community.label_propagation_communities(G)\n",
    "\n",
    "print('Number of communities:', len(communities))\n",
    "\n",
    "# hist of community sizes\n",
    "sizes = [len(community) for community in communities]\n",
    "plt.bar(range(len(sizes)),sizes)\n",
    "plt.xlabel('Communities')\n",
    "plt.ylabel('Size')\n",
    "plt.show()"
   ]
  },
  {
   "cell_type": "code",
   "execution_count": 150,
   "metadata": {},
   "outputs": [],
   "source": [
    "# Laplacian spectral layout with communities as colors\n",
    "pos = nx.spectral_layout(G)"
   ]
  },
  {
   "cell_type": "code",
   "execution_count": 151,
   "metadata": {},
   "outputs": [
    {
     "name": "stdout",
     "output_type": "stream",
     "text": []
    },
    {
     "data": {},
     "metadata": {},
     "output_type": "display_data"
    }
   ],
   "source": [
    "# Plot spectral layout with communities as colors\n",
    "plt.figure(figsize=(10, 10))\n",
    "for i, community in enumerate(communities):\n",
    "    nodes = list(community)\n",
    "    nx.draw_networkx_nodes(G, pos, nodelist=nodes, node_color=plt.cm.tab20(i),\n",
    "                            label=f'Community {i}', node_size=30, alpha=0.8)\n",
    "nx.draw_networkx_edges(G, pos, alpha=0.1)\n",
    "plt.title('Spectral Layout with Communities')\n",
    "plt.legend()\n",
    "plt.show()"
   ]
  },
  {
   "cell_type": "code",
   "execution_count": 152,
   "metadata": {},
   "outputs": [],
   "source": [
    "# Force-directed layout (springs and repulsion)\n",
    "pos= nx.kamada_kawai_layout(G)\n"
   ]
  },
  {
   "cell_type": "code",
   "execution_count": 153,
   "metadata": {},
   "outputs": [
    {
     "data": {},
     "metadata": {},
     "output_type": "display_data"
    }
   ],
   "source": [
    "plt.figure(figsize=(10, 10))\n",
    "for i, community in enumerate(communities):\n",
    "    nodes = list(community)\n",
    "    nx.draw_networkx_nodes(G, pos, nodelist=nodes, node_color=plt.cm.tab20(i),\n",
    "                            label=f'Community {i}', node_size=30, alpha=0.8)\n",
    "nx.draw_networkx_edges(G, pos, alpha=0.1)\n",
    "plt.title('Kamada-Kawai Layout with Communities')\n",
    "plt.legend()\n",
    "plt.show()"
   ]
  },
  {
   "cell_type": "markdown",
   "metadata": {},
   "source": [
    "## iGraph "
   ]
  },
  {
   "cell_type": "code",
   "execution_count": 137,
   "metadata": {},
   "outputs": [],
   "source": [
    "import igraph as ig"
   ]
  },
  {
   "cell_type": "code",
   "execution_count": 165,
   "metadata": {},
   "outputs": [],
   "source": [
    "G=nx.Graph(A_real)\n",
    "G.remove_edges_from(nx.selfloop_edges(G))\n",
    "# Extract the largest connected component\n",
    "components = list(nx.connected_components(G))\n",
    "largest_component = max(components, key=len)\n",
    "G = G.subgraph(largest_component).copy()\n",
    "\n",
    "\n",
    "# Convert the NetworkX graph to igraph\n",
    "node_names= list(G.nodes())\n",
    "G_igraph = ig.Graph.from_networkx(G)\n",
    "# Set the vertex names (because we removed nodes outside the largest component)\n",
    "G_igraph.vs['name'] = node_names"
   ]
  },
  {
   "cell_type": "code",
   "execution_count": 166,
   "metadata": {},
   "outputs": [
    {
     "name": "stdout",
     "output_type": "stream",
     "text": []
    },
    {
     "name": "stdout",
     "output_type": "stream",
     "text": []
    }
   ],
   "source": [
    "# Communities with leading eigenvector (divisive recursive algorithm)\n",
    "communities = G_igraph.community_leading_eigenvector()\n",
    "\n",
    "# Layout with lgl\n",
    "layout = G_igraph.layout(\"lgl\")\n",
    "pos = {G_igraph.vs[i][\"name\"]: layout[i] for i in range(len(layout))}\n",
    "\n",
    "# Plot the graph with communities\n",
    "plt.figure(figsize=(10, 10))\n",
    "for i, community in enumerate(communities):\n",
    "    nodes = list(community)\n",
    "    # Convert node indices to names\n",
    "    nodes = [G_igraph.vs[node][\"name\"] for node in nodes]\n",
    "    nx.draw_networkx_nodes(G, pos, nodelist=nodes, node_color=plt.cm.tab20(i),\n",
    "                            label=f'Community {i}', node_size=30, alpha=0.8)\n",
    "nx.draw_networkx_edges(G, pos, alpha=0.1)\n",
    "plt.title('LGL Layout with Communities')\n",
    "plt.legend()\n",
    "plt.show()"
   ]
  },
  {
   "cell_type": "code",
   "execution_count": null,
   "metadata": {},
   "outputs": [],
   "source": []
  }
 ],
 "metadata": {
  "kernelspec": {
   "display_name": "base",
   "language": "python",
   "name": "python3"
  },
  "language_info": {
   "codemirror_mode": {
    "name": "ipython",
    "version": 3
   },
   "file_extension": ".py",
   "mimetype": "text/x-python",
   "name": "python",
   "nbconvert_exporter": "python",
   "pygments_lexer": "ipython3",
   "version": "3.13.2"
  }
 },
 "nbformat": 4,
 "nbformat_minor": 2
}
